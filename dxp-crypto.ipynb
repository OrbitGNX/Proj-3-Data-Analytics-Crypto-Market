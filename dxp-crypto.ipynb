{
 "cells": [
  {
   "cell_type": "code",
   "execution_count": 28,
   "metadata": {},
   "outputs": [],
   "source": [
    "# Data Exploration\n",
    "import pandas as pd\n",
    "from scipy import stats"
   ]
  },
  {
   "cell_type": "code",
   "execution_count": 29,
   "metadata": {},
   "outputs": [],
   "source": [
    "df_1 = pd.read_csv(r'raw\\crypto-data\\coin_Aave.csv', delimiter=',')\n",
    "df_2 = pd.read_csv(r'raw\\crypto-data\\coin_BinanceCoin.csv', delimiter=',')\n",
    "df_3 = pd.read_csv(r'raw\\crypto-data\\coin_Bitcoin.csv', delimiter=',')\n",
    "df_4 = pd.read_csv(r'raw\\crypto-data\\coin_Cardano.csv', delimiter=',')\n",
    "df_5 = pd.read_csv(r'raw\\crypto-data\\coin_ChainLink.csv', delimiter=',')\n",
    "df_6 = pd.read_csv(r'raw\\crypto-data\\coin_Cosmos.csv', delimiter=',')\n",
    "df_7 = pd.read_csv(r'raw\\crypto-data\\coin_CryptocomCoin.csv', delimiter=',')\n",
    "df_8 = pd.read_csv(r'raw\\crypto-data\\coin_Dogecoin.csv', delimiter=',')\n",
    "df_9 = pd.read_csv(r'raw\\crypto-data\\coin_EOS.csv', delimiter=',')\n",
    "df_10 = pd.read_csv(r'raw\\crypto-data\\coin_Ethereum.csv', delimiter=',')\n",
    "df_11 = pd.read_csv(r'raw\\crypto-data\\coin_Iota.csv', delimiter=',')\n",
    "df_12 = pd.read_csv(r'raw\\crypto-data\\coin_Litecoin.csv', delimiter=',')\n",
    "df_13 = pd.read_csv(r'raw\\crypto-data\\coin_Monero.csv', delimiter=',')\n",
    "df_14 = pd.read_csv(r'raw\\crypto-data\\coin_NEM.csv', delimiter=',')\n",
    "df_15 = pd.read_csv(r'raw\\crypto-data\\coin_Polkadot.csv', delimiter=',')\n",
    "df_16 = pd.read_csv(r'raw\\crypto-data\\coin_Solana.csv', delimiter=',')\n",
    "df_17 = pd.read_csv(r'raw\\crypto-data\\coin_Stellar.csv', delimiter=',')\n",
    "df_18 = pd.read_csv(r'raw\\crypto-data\\coin_Tether.csv', delimiter=',')\n",
    "df_19 = pd.read_csv(r'raw\\crypto-data\\coin_Tron.csv', delimiter=',')\n",
    "df_20 = pd.read_csv(r'raw\\crypto-data\\coin_Uniswap.csv', delimiter=',')\n",
    "df_21 = pd.read_csv(r'raw\\crypto-data\\coin_USDCoin.csv', delimiter=',')\n",
    "df_22 = pd.read_csv(r'raw\\crypto-data\\coin_WrappedBitcoin.csv', delimiter=',')\n",
    "df_23 = pd.read_csv(r'raw\\crypto-data\\coin_XRP.csv', delimiter=',')"
   ]
  },
  {
   "cell_type": "code",
   "execution_count": 30,
   "metadata": {},
   "outputs": [
    {
     "data": {
      "text/html": [
       "<div>\n",
       "<style scoped>\n",
       "    .dataframe tbody tr th:only-of-type {\n",
       "        vertical-align: middle;\n",
       "    }\n",
       "\n",
       "    .dataframe tbody tr th {\n",
       "        vertical-align: top;\n",
       "    }\n",
       "\n",
       "    .dataframe thead th {\n",
       "        text-align: right;\n",
       "    }\n",
       "</style>\n",
       "<table border=\"1\" class=\"dataframe\">\n",
       "  <thead>\n",
       "    <tr style=\"text-align: right;\">\n",
       "      <th></th>\n",
       "      <th>SNo</th>\n",
       "      <th>Name</th>\n",
       "      <th>Symbol</th>\n",
       "      <th>Date</th>\n",
       "      <th>High</th>\n",
       "      <th>Low</th>\n",
       "      <th>Open</th>\n",
       "      <th>Close</th>\n",
       "      <th>Volume</th>\n",
       "      <th>Marketcap</th>\n",
       "    </tr>\n",
       "  </thead>\n",
       "  <tbody>\n",
       "    <tr>\n",
       "      <th>0</th>\n",
       "      <td>1</td>\n",
       "      <td>Aave</td>\n",
       "      <td>AAVE</td>\n",
       "      <td>2020-10-05 23:59:59</td>\n",
       "      <td>55.112358</td>\n",
       "      <td>49.787900</td>\n",
       "      <td>52.675035</td>\n",
       "      <td>53.219243</td>\n",
       "      <td>0.000000e+00</td>\n",
       "      <td>8.912813e+07</td>\n",
       "    </tr>\n",
       "    <tr>\n",
       "      <th>1</th>\n",
       "      <td>2</td>\n",
       "      <td>Aave</td>\n",
       "      <td>AAVE</td>\n",
       "      <td>2020-10-06 23:59:59</td>\n",
       "      <td>53.402270</td>\n",
       "      <td>40.734578</td>\n",
       "      <td>53.291969</td>\n",
       "      <td>42.401599</td>\n",
       "      <td>5.830915e+05</td>\n",
       "      <td>7.101144e+07</td>\n",
       "    </tr>\n",
       "    <tr>\n",
       "      <th>2</th>\n",
       "      <td>3</td>\n",
       "      <td>Aave</td>\n",
       "      <td>AAVE</td>\n",
       "      <td>2020-10-07 23:59:59</td>\n",
       "      <td>42.408314</td>\n",
       "      <td>35.970690</td>\n",
       "      <td>42.399947</td>\n",
       "      <td>40.083976</td>\n",
       "      <td>6.828342e+05</td>\n",
       "      <td>6.713004e+07</td>\n",
       "    </tr>\n",
       "    <tr>\n",
       "      <th>3</th>\n",
       "      <td>4</td>\n",
       "      <td>Aave</td>\n",
       "      <td>AAVE</td>\n",
       "      <td>2020-10-08 23:59:59</td>\n",
       "      <td>44.902511</td>\n",
       "      <td>36.696057</td>\n",
       "      <td>39.885262</td>\n",
       "      <td>43.764463</td>\n",
       "      <td>1.658817e+06</td>\n",
       "      <td>2.202651e+08</td>\n",
       "    </tr>\n",
       "    <tr>\n",
       "      <th>4</th>\n",
       "      <td>5</td>\n",
       "      <td>Aave</td>\n",
       "      <td>AAVE</td>\n",
       "      <td>2020-10-09 23:59:59</td>\n",
       "      <td>47.569533</td>\n",
       "      <td>43.291776</td>\n",
       "      <td>43.764463</td>\n",
       "      <td>46.817744</td>\n",
       "      <td>8.155377e+05</td>\n",
       "      <td>2.356322e+08</td>\n",
       "    </tr>\n",
       "    <tr>\n",
       "      <th>5</th>\n",
       "      <td>6</td>\n",
       "      <td>Aave</td>\n",
       "      <td>AAVE</td>\n",
       "      <td>2020-10-10 23:59:59</td>\n",
       "      <td>51.405655</td>\n",
       "      <td>46.703328</td>\n",
       "      <td>46.818146</td>\n",
       "      <td>49.133718</td>\n",
       "      <td>1.074627e+06</td>\n",
       "      <td>2.472884e+08</td>\n",
       "    </tr>\n",
       "    <tr>\n",
       "      <th>6</th>\n",
       "      <td>7</td>\n",
       "      <td>Aave</td>\n",
       "      <td>AAVE</td>\n",
       "      <td>2020-10-11 23:59:59</td>\n",
       "      <td>51.453374</td>\n",
       "      <td>48.716040</td>\n",
       "      <td>49.133130</td>\n",
       "      <td>49.660726</td>\n",
       "      <td>6.921506e+05</td>\n",
       "      <td>2.499408e+08</td>\n",
       "    </tr>\n",
       "    <tr>\n",
       "      <th>7</th>\n",
       "      <td>8</td>\n",
       "      <td>Aave</td>\n",
       "      <td>AAVE</td>\n",
       "      <td>2020-10-12 23:59:59</td>\n",
       "      <td>54.421418</td>\n",
       "      <td>48.754077</td>\n",
       "      <td>49.661573</td>\n",
       "      <td>52.238692</td>\n",
       "      <td>1.354836e+06</td>\n",
       "      <td>2.629157e+08</td>\n",
       "    </tr>\n",
       "  </tbody>\n",
       "</table>\n",
       "</div>"
      ],
      "text/plain": [
       "   SNo  Name Symbol                 Date       High        Low       Open  \\\n",
       "0    1  Aave   AAVE  2020-10-05 23:59:59  55.112358  49.787900  52.675035   \n",
       "1    2  Aave   AAVE  2020-10-06 23:59:59  53.402270  40.734578  53.291969   \n",
       "2    3  Aave   AAVE  2020-10-07 23:59:59  42.408314  35.970690  42.399947   \n",
       "3    4  Aave   AAVE  2020-10-08 23:59:59  44.902511  36.696057  39.885262   \n",
       "4    5  Aave   AAVE  2020-10-09 23:59:59  47.569533  43.291776  43.764463   \n",
       "5    6  Aave   AAVE  2020-10-10 23:59:59  51.405655  46.703328  46.818146   \n",
       "6    7  Aave   AAVE  2020-10-11 23:59:59  51.453374  48.716040  49.133130   \n",
       "7    8  Aave   AAVE  2020-10-12 23:59:59  54.421418  48.754077  49.661573   \n",
       "\n",
       "       Close        Volume     Marketcap  \n",
       "0  53.219243  0.000000e+00  8.912813e+07  \n",
       "1  42.401599  5.830915e+05  7.101144e+07  \n",
       "2  40.083976  6.828342e+05  6.713004e+07  \n",
       "3  43.764463  1.658817e+06  2.202651e+08  \n",
       "4  46.817744  8.155377e+05  2.356322e+08  \n",
       "5  49.133718  1.074627e+06  2.472884e+08  \n",
       "6  49.660726  6.921506e+05  2.499408e+08  \n",
       "7  52.238692  1.354836e+06  2.629157e+08  "
      ]
     },
     "execution_count": 30,
     "metadata": {},
     "output_type": "execute_result"
    }
   ],
   "source": [
    "df = pd.concat([df_1, df_2, df_3, df_4, df_5\n",
    "               ,df_6, df_7, df_8, df_9, df_10\n",
    "               ,df_11, df_12, df_13, df_14, df_15\n",
    "               ,df_16, df_17, df_18, df_19, df_20\n",
    "               ,df_21, df_22, df_23]\n",
    "               ,ignore_index=True)\n",
    "df.head(8)"
   ]
  },
  {
   "cell_type": "code",
   "execution_count": 31,
   "metadata": {},
   "outputs": [
    {
     "name": "stdout",
     "output_type": "stream",
     "text": [
      "<class 'pandas.core.frame.DataFrame'>\n",
      "RangeIndex: 37082 entries, 0 to 37081\n",
      "Data columns (total 10 columns):\n",
      " #   Column     Non-Null Count  Dtype  \n",
      "---  ------     --------------  -----  \n",
      " 0   SNo        37082 non-null  int64  \n",
      " 1   Name       37082 non-null  object \n",
      " 2   Symbol     37082 non-null  object \n",
      " 3   Date       37082 non-null  object \n",
      " 4   High       37082 non-null  float64\n",
      " 5   Low        37082 non-null  float64\n",
      " 6   Open       37082 non-null  float64\n",
      " 7   Close      37082 non-null  float64\n",
      " 8   Volume     37082 non-null  float64\n",
      " 9   Marketcap  37082 non-null  float64\n",
      "dtypes: float64(6), int64(1), object(3)\n",
      "memory usage: 2.8+ MB\n"
     ]
    }
   ],
   "source": [
    "df.info()"
   ]
  },
  {
   "cell_type": "code",
   "execution_count": 32,
   "metadata": {},
   "outputs": [
    {
     "data": {
      "text/plain": [
       "SNo          0\n",
       "Name         0\n",
       "Symbol       0\n",
       "Date         0\n",
       "High         0\n",
       "Low          0\n",
       "Open         0\n",
       "Close        0\n",
       "Volume       0\n",
       "Marketcap    0\n",
       "dtype: int64"
      ]
     },
     "execution_count": 32,
     "metadata": {},
     "output_type": "execute_result"
    }
   ],
   "source": [
    "df.isna().sum()"
   ]
  },
  {
   "cell_type": "code",
   "execution_count": 33,
   "metadata": {},
   "outputs": [
    {
     "data": {
      "text/plain": [
       "0"
      ]
     },
     "execution_count": 33,
     "metadata": {},
     "output_type": "execute_result"
    }
   ],
   "source": [
    "df.duplicated().sum()"
   ]
  },
  {
   "cell_type": "markdown",
   "metadata": {},
   "source": [
    "Name"
   ]
  },
  {
   "cell_type": "code",
   "execution_count": 34,
   "metadata": {},
   "outputs": [
    {
     "data": {
      "text/plain": [
       "array(['Aave', 'Binance Coin', 'Bitcoin', 'Cardano', 'Chainlink',\n",
       "       'Cosmos', 'Crypto.com Coin', 'Dogecoin', 'EOS', 'Ethereum', 'IOTA',\n",
       "       'Litecoin', 'Monero', 'NEM', 'Polkadot', 'Solana', 'Stellar',\n",
       "       'Tether', 'TRON', 'Uniswap', 'USD Coin', 'Wrapped Bitcoin', 'XRP'],\n",
       "      dtype=object)"
      ]
     },
     "execution_count": 34,
     "metadata": {},
     "output_type": "execute_result"
    }
   ],
   "source": [
    "df['Name'].unique()"
   ]
  },
  {
   "cell_type": "code",
   "execution_count": 35,
   "metadata": {},
   "outputs": [
    {
     "data": {
      "text/plain": [
       "23"
      ]
     },
     "execution_count": 35,
     "metadata": {},
     "output_type": "execute_result"
    }
   ],
   "source": [
    "df['Name'].nunique()"
   ]
  },
  {
   "cell_type": "code",
   "execution_count": 36,
   "metadata": {},
   "outputs": [
    {
     "data": {
      "text/plain": [
       "array(['AAVE', 'BNB', 'BTC', 'ADA', 'LINK', 'ATOM', 'CRO', 'DOGE', 'EOS',\n",
       "       'ETH', 'MIOTA', 'LTC', 'XMR', 'XEM', 'DOT', 'SOL', 'XLM', 'USDT',\n",
       "       'TRX', 'UNI', 'USDC', 'WBTC', 'XRP'], dtype=object)"
      ]
     },
     "execution_count": 36,
     "metadata": {},
     "output_type": "execute_result"
    }
   ],
   "source": [
    "df['Symbol'].unique()"
   ]
  },
  {
   "cell_type": "markdown",
   "metadata": {},
   "source": [
    "23 unique coins"
   ]
  },
  {
   "cell_type": "code",
   "execution_count": 37,
   "metadata": {},
   "outputs": [
    {
     "data": {
      "text/plain": [
       "23"
      ]
     },
     "execution_count": 37,
     "metadata": {},
     "output_type": "execute_result"
    }
   ],
   "source": [
    "df['Symbol'].nunique()"
   ]
  },
  {
   "cell_type": "markdown",
   "metadata": {},
   "source": [
    "Date dtype=str"
   ]
  },
  {
   "cell_type": "code",
   "execution_count": 38,
   "metadata": {},
   "outputs": [
    {
     "data": {
      "text/plain": [
       "str"
      ]
     },
     "execution_count": 38,
     "metadata": {},
     "output_type": "execute_result"
    }
   ],
   "source": [
    "type(df['Date'][0])"
   ]
  },
  {
   "cell_type": "markdown",
   "metadata": {},
   "source": [
    "Market Cap Box Plot"
   ]
  },
  {
   "cell_type": "code",
   "execution_count": 39,
   "metadata": {},
   "outputs": [
    {
     "data": {
      "text/plain": [
       "<Axes: title={'center': 'Marketcap'}>"
      ]
     },
     "execution_count": 39,
     "metadata": {},
     "output_type": "execute_result"
    },
    {
     "data": {
      "image/png": "[encoded data removed]",
      "text/plain": [
       "<Figure size 640x480 with 1 Axes>"
      ]
     },
     "metadata": {},
     "output_type": "display_data"
    }
   ],
   "source": [
    "df['Marketcap'].plot(kind='box',title='Marketcap')"
   ]
  },
  {
   "cell_type": "code",
   "execution_count": 40,
   "metadata": {},
   "outputs": [
    {
     "data": {
      "text/html": [
       "<div>\n",
       "<style scoped>\n",
       "    .dataframe tbody tr th:only-of-type {\n",
       "        vertical-align: middle;\n",
       "    }\n",
       "\n",
       "    .dataframe tbody tr th {\n",
       "        vertical-align: top;\n",
       "    }\n",
       "\n",
       "    .dataframe thead th {\n",
       "        text-align: right;\n",
       "    }\n",
       "</style>\n",
       "<table border=\"1\" class=\"dataframe\">\n",
       "  <thead>\n",
       "    <tr style=\"text-align: right;\">\n",
       "      <th></th>\n",
       "      <th>SNo</th>\n",
       "      <th>High</th>\n",
       "      <th>Low</th>\n",
       "      <th>Open</th>\n",
       "      <th>Close</th>\n",
       "      <th>Volume</th>\n",
       "      <th>Marketcap</th>\n",
       "    </tr>\n",
       "  </thead>\n",
       "  <tbody>\n",
       "    <tr>\n",
       "      <th>count</th>\n",
       "      <td>37082.000000</td>\n",
       "      <td>37082.000000</td>\n",
       "      <td>37082.000000</td>\n",
       "      <td>37082.000000</td>\n",
       "      <td>37082.000000</td>\n",
       "      <td>3.708200e+04</td>\n",
       "      <td>3.708200e+04</td>\n",
       "    </tr>\n",
       "    <tr>\n",
       "      <th>mean</th>\n",
       "      <td>1056.699018</td>\n",
       "      <td>1016.058015</td>\n",
       "      <td>952.987707</td>\n",
       "      <td>985.323755</td>\n",
       "      <td>987.120511</td>\n",
       "      <td>3.022542e+09</td>\n",
       "      <td>1.542943e+10</td>\n",
       "    </tr>\n",
       "    <tr>\n",
       "      <th>std</th>\n",
       "      <td>755.992373</td>\n",
       "      <td>5249.503670</td>\n",
       "      <td>4907.932082</td>\n",
       "      <td>5088.101367</td>\n",
       "      <td>5093.703878</td>\n",
       "      <td>1.190963e+10</td>\n",
       "      <td>7.059128e+10</td>\n",
       "    </tr>\n",
       "    <tr>\n",
       "      <th>min</th>\n",
       "      <td>1.000000</td>\n",
       "      <td>0.000089</td>\n",
       "      <td>0.000079</td>\n",
       "      <td>0.000086</td>\n",
       "      <td>0.000086</td>\n",
       "      <td>0.000000e+00</td>\n",
       "      <td>0.000000e+00</td>\n",
       "    </tr>\n",
       "    <tr>\n",
       "      <th>25%</th>\n",
       "      <td>420.000000</td>\n",
       "      <td>0.075664</td>\n",
       "      <td>0.069536</td>\n",
       "      <td>0.072456</td>\n",
       "      <td>0.072648</td>\n",
       "      <td>4.937190e+06</td>\n",
       "      <td>2.395955e+08</td>\n",
       "    </tr>\n",
       "    <tr>\n",
       "      <th>50%</th>\n",
       "      <td>910.000000</td>\n",
       "      <td>1.008733</td>\n",
       "      <td>0.999850</td>\n",
       "      <td>1.001157</td>\n",
       "      <td>1.001138</td>\n",
       "      <td>8.512805e+07</td>\n",
       "      <td>1.405335e+09</td>\n",
       "    </tr>\n",
       "    <tr>\n",
       "      <th>75%</th>\n",
       "      <td>1585.000000</td>\n",
       "      <td>31.916399</td>\n",
       "      <td>28.996246</td>\n",
       "      <td>30.459673</td>\n",
       "      <td>30.512205</td>\n",
       "      <td>9.388489e+08</td>\n",
       "      <td>5.159305e+09</td>\n",
       "    </tr>\n",
       "    <tr>\n",
       "      <th>max</th>\n",
       "      <td>2991.000000</td>\n",
       "      <td>64863.098908</td>\n",
       "      <td>62208.964366</td>\n",
       "      <td>63523.754869</td>\n",
       "      <td>63503.457930</td>\n",
       "      <td>3.509679e+11</td>\n",
       "      <td>1.186364e+12</td>\n",
       "    </tr>\n",
       "  </tbody>\n",
       "</table>\n",
       "</div>"
      ],
      "text/plain": [
       "                SNo          High           Low          Open         Close  \\\n",
       "count  37082.000000  37082.000000  37082.000000  37082.000000  37082.000000   \n",
       "mean    1056.699018   1016.058015    952.987707    985.323755    987.120511   \n",
       "std      755.992373   5249.503670   4907.932082   5088.101367   5093.703878   \n",
       "min        1.000000      0.000089      0.000079      0.000086      0.000086   \n",
       "25%      420.000000      0.075664      0.069536      0.072456      0.072648   \n",
       "50%      910.000000      1.008733      0.999850      1.001157      1.001138   \n",
       "75%     1585.000000     31.916399     28.996246     30.459673     30.512205   \n",
       "max     2991.000000  64863.098908  62208.964366  63523.754869  63503.457930   \n",
       "\n",
       "             Volume     Marketcap  \n",
       "count  3.708200e+04  3.708200e+04  \n",
       "mean   3.022542e+09  1.542943e+10  \n",
       "std    1.190963e+10  7.059128e+10  \n",
       "min    0.000000e+00  0.000000e+00  \n",
       "25%    4.937190e+06  2.395955e+08  \n",
       "50%    8.512805e+07  1.405335e+09  \n",
       "75%    9.388489e+08  5.159305e+09  \n",
       "max    3.509679e+11  1.186364e+12  "
      ]
     },
     "execution_count": 40,
     "metadata": {},
     "output_type": "execute_result"
    }
   ],
   "source": [
    "df.describe()"
   ]
  },
  {
   "cell_type": "markdown",
   "metadata": {},
   "source": [
    "0.13% Zero Volume"
   ]
  },
  {
   "cell_type": "code",
   "execution_count": 46,
   "metadata": {},
   "outputs": [
    {
     "data": {
      "text/plain": [
       "0.13"
      ]
     },
     "execution_count": 46,
     "metadata": {},
     "output_type": "execute_result"
    }
   ],
   "source": [
    "total_marketcap = df['Marketcap'].sum()\n",
    "zero_volume_mc = df['Marketcap'].where(df['Volume']==0).sum()\n",
    "(lambda a,b : (a/b)*100)(zero_volume_mc, total_marketcap).round(2)"
   ]
  },
  {
   "cell_type": "code",
   "execution_count": 57,
   "metadata": {},
   "outputs": [
    {
     "data": {
      "text/plain": [
       "640"
      ]
     },
     "execution_count": 57,
     "metadata": {},
     "output_type": "execute_result"
    }
   ],
   "source": [
    "df['Marketcap'].where(df['Volume']==0).count()"
   ]
  },
  {
   "cell_type": "markdown",
   "metadata": {},
   "source": [
    "Zero Marketcap"
   ]
  },
  {
   "cell_type": "code",
   "execution_count": 59,
   "metadata": {},
   "outputs": [
    {
     "data": {
      "text/plain": [
       "37082"
      ]
     },
     "execution_count": 59,
     "metadata": {},
     "output_type": "execute_result"
    }
   ],
   "source": [
    "(df['Marketcap']==0).count()"
   ]
  },
  {
   "cell_type": "markdown",
   "metadata": {},
   "source": [
    "Outliers"
   ]
  },
  {
   "cell_type": "code",
   "execution_count": 24,
   "metadata": {},
   "outputs": [
    {
     "data": {
      "text/plain": [
       "392"
      ]
     },
     "execution_count": 24,
     "metadata": {},
     "output_type": "execute_result"
    }
   ],
   "source": [
    "z_marketcap = stats.zscore(df['Marketcap'])\n",
    "outliers_marketcap = (z_marketcap>3)|(z_marketcap<-3)\n",
    "outliers_marketcap.sum()"
   ]
  },
  {
   "cell_type": "code",
   "execution_count": null,
   "metadata": {},
   "outputs": [],
   "source": []
  }
 ],
 "metadata": {
  "kernelspec": {
   "display_name": "base",
   "language": "python",
   "name": "python3"
  },
  "language_info": {
   "codemirror_mode": {
    "name": "ipython",
    "version": 3
   },
   "file_extension": ".py",
   "mimetype": "text/x-python",
   "name": "python",
   "nbconvert_exporter": "python",
   "pygments_lexer": "ipython3",
   "version": "3.10.9"
  }
 },
 "nbformat": 4,
 "nbformat_minor": 2
}
