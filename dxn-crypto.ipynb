{
 "cells": [
  {
   "cell_type": "code",
   "execution_count": 87,
   "metadata": {},
   "outputs": [],
   "source": [
    "# Data Cleaning\n",
    "import pandas as pd\n",
    "from scipy import stats"
   ]
  },
  {
   "cell_type": "markdown",
   "metadata": {},
   "source": [
    "# Raw"
   ]
  },
  {
   "cell_type": "code",
   "execution_count": 88,
   "metadata": {},
   "outputs": [],
   "source": [
    "df_1 = pd.read_csv(r'raw\\crypto-data\\coin_Aave.csv', delimiter=',')\n",
    "df_2 = pd.read_csv(r'raw\\crypto-data\\coin_BinanceCoin.csv', delimiter=',')\n",
    "df_3 = pd.read_csv(r'raw\\crypto-data\\coin_Bitcoin.csv', delimiter=',')\n",
    "df_4 = pd.read_csv(r'raw\\crypto-data\\coin_Cardano.csv', delimiter=',')\n",
    "df_5 = pd.read_csv(r'raw\\crypto-data\\coin_ChainLink.csv', delimiter=',')\n",
    "df_6 = pd.read_csv(r'raw\\crypto-data\\coin_Cosmos.csv', delimiter=',')\n",
    "df_7 = pd.read_csv(r'raw\\crypto-data\\coin_CryptocomCoin.csv', delimiter=',')\n",
    "df_8 = pd.read_csv(r'raw\\crypto-data\\coin_Dogecoin.csv', delimiter=',')\n",
    "df_9 = pd.read_csv(r'raw\\crypto-data\\coin_EOS.csv', delimiter=',')\n",
    "df_10 = pd.read_csv(r'raw\\crypto-data\\coin_Ethereum.csv', delimiter=',')\n",
    "df_11 = pd.read_csv(r'raw\\crypto-data\\coin_Iota.csv', delimiter=',')\n",
    "df_12 = pd.read_csv(r'raw\\crypto-data\\coin_Litecoin.csv', delimiter=',')\n",
    "df_13 = pd.read_csv(r'raw\\crypto-data\\coin_Monero.csv', delimiter=',')\n",
    "df_14 = pd.read_csv(r'raw\\crypto-data\\coin_NEM.csv', delimiter=',')\n",
    "df_15 = pd.read_csv(r'raw\\crypto-data\\coin_Polkadot.csv', delimiter=',')\n",
    "df_16 = pd.read_csv(r'raw\\crypto-data\\coin_Solana.csv', delimiter=',')\n",
    "df_17 = pd.read_csv(r'raw\\crypto-data\\coin_Stellar.csv', delimiter=',')\n",
    "df_18 = pd.read_csv(r'raw\\crypto-data\\coin_Tether.csv', delimiter=',')\n",
    "df_19 = pd.read_csv(r'raw\\crypto-data\\coin_Tron.csv', delimiter=',')\n",
    "df_20 = pd.read_csv(r'raw\\crypto-data\\coin_Uniswap.csv', delimiter=',')\n",
    "df_21 = pd.read_csv(r'raw\\crypto-data\\coin_USDCoin.csv', delimiter=',')\n",
    "df_22 = pd.read_csv(r'raw\\crypto-data\\coin_WrappedBitcoin.csv', delimiter=',')\n",
    "df_23 = pd.read_csv(r'raw\\crypto-data\\coin_XRP.csv', delimiter=',')"
   ]
  },
  {
   "cell_type": "code",
   "execution_count": 89,
   "metadata": {},
   "outputs": [],
   "source": [
    "df = pd.concat([df_1, df_2, df_3, df_4, df_5\n",
    "               ,df_6, df_7, df_8, df_9, df_10\n",
    "               ,df_11, df_12, df_13, df_14, df_15\n",
    "               ,df_16, df_17, df_18, df_19, df_20\n",
    "               ,df_21, df_22, df_23]\n",
    "               ,ignore_index=True)"
   ]
  },
  {
   "cell_type": "code",
   "execution_count": 90,
   "metadata": {},
   "outputs": [],
   "source": [
    "# Drop Columns\n",
    "df = df.drop(columns=['SNo','High','Low','Open'])"
   ]
  },
  {
   "cell_type": "code",
   "execution_count": 91,
   "metadata": {},
   "outputs": [
    {
     "name": "stdout",
     "output_type": "stream",
     "text": [
      "<class 'pandas.core.frame.DataFrame'>\n",
      "RangeIndex: 37082 entries, 0 to 37081\n",
      "Data columns (total 6 columns):\n",
      " #   Column     Non-Null Count  Dtype  \n",
      "---  ------     --------------  -----  \n",
      " 0   Name       37082 non-null  object \n",
      " 1   Symbol     37082 non-null  object \n",
      " 2   Date       37082 non-null  object \n",
      " 3   Close      37082 non-null  float64\n",
      " 4   Volume     37082 non-null  float64\n",
      " 5   Marketcap  37082 non-null  float64\n",
      "dtypes: float64(3), object(3)\n",
      "memory usage: 1.7+ MB\n"
     ]
    }
   ],
   "source": [
    "df.info()"
   ]
  },
  {
   "cell_type": "markdown",
   "metadata": {},
   "source": [
    "Format Date"
   ]
  },
  {
   "cell_type": "code",
   "execution_count": 92,
   "metadata": {},
   "outputs": [],
   "source": [
    "df['Date'] = pd.to_datetime(df['Date']).dt.strftime('%Y-%m-%d')"
   ]
  },
  {
   "cell_type": "code",
   "execution_count": 93,
   "metadata": {},
   "outputs": [
    {
     "data": {
      "text/html": [
       "<div>\n",
       "<style scoped>\n",
       "    .dataframe tbody tr th:only-of-type {\n",
       "        vertical-align: middle;\n",
       "    }\n",
       "\n",
       "    .dataframe tbody tr th {\n",
       "        vertical-align: top;\n",
       "    }\n",
       "\n",
       "    .dataframe thead th {\n",
       "        text-align: right;\n",
       "    }\n",
       "</style>\n",
       "<table border=\"1\" class=\"dataframe\">\n",
       "  <thead>\n",
       "    <tr style=\"text-align: right;\">\n",
       "      <th></th>\n",
       "      <th>Name</th>\n",
       "      <th>Symbol</th>\n",
       "      <th>Date</th>\n",
       "      <th>Close</th>\n",
       "      <th>Volume</th>\n",
       "      <th>Marketcap</th>\n",
       "    </tr>\n",
       "  </thead>\n",
       "  <tbody>\n",
       "    <tr>\n",
       "      <th>0</th>\n",
       "      <td>Aave</td>\n",
       "      <td>AAVE</td>\n",
       "      <td>2020-10-05</td>\n",
       "      <td>53.219243</td>\n",
       "      <td>0.000000e+00</td>\n",
       "      <td>8.912813e+07</td>\n",
       "    </tr>\n",
       "    <tr>\n",
       "      <th>1</th>\n",
       "      <td>Aave</td>\n",
       "      <td>AAVE</td>\n",
       "      <td>2020-10-06</td>\n",
       "      <td>42.401599</td>\n",
       "      <td>5.830915e+05</td>\n",
       "      <td>7.101144e+07</td>\n",
       "    </tr>\n",
       "    <tr>\n",
       "      <th>2</th>\n",
       "      <td>Aave</td>\n",
       "      <td>AAVE</td>\n",
       "      <td>2020-10-07</td>\n",
       "      <td>40.083976</td>\n",
       "      <td>6.828342e+05</td>\n",
       "      <td>6.713004e+07</td>\n",
       "    </tr>\n",
       "    <tr>\n",
       "      <th>3</th>\n",
       "      <td>Aave</td>\n",
       "      <td>AAVE</td>\n",
       "      <td>2020-10-08</td>\n",
       "      <td>43.764463</td>\n",
       "      <td>1.658817e+06</td>\n",
       "      <td>2.202651e+08</td>\n",
       "    </tr>\n",
       "    <tr>\n",
       "      <th>4</th>\n",
       "      <td>Aave</td>\n",
       "      <td>AAVE</td>\n",
       "      <td>2020-10-09</td>\n",
       "      <td>46.817744</td>\n",
       "      <td>8.155377e+05</td>\n",
       "      <td>2.356322e+08</td>\n",
       "    </tr>\n",
       "    <tr>\n",
       "      <th>5</th>\n",
       "      <td>Aave</td>\n",
       "      <td>AAVE</td>\n",
       "      <td>2020-10-10</td>\n",
       "      <td>49.133718</td>\n",
       "      <td>1.074627e+06</td>\n",
       "      <td>2.472884e+08</td>\n",
       "    </tr>\n",
       "    <tr>\n",
       "      <th>6</th>\n",
       "      <td>Aave</td>\n",
       "      <td>AAVE</td>\n",
       "      <td>2020-10-11</td>\n",
       "      <td>49.660726</td>\n",
       "      <td>6.921506e+05</td>\n",
       "      <td>2.499408e+08</td>\n",
       "    </tr>\n",
       "    <tr>\n",
       "      <th>7</th>\n",
       "      <td>Aave</td>\n",
       "      <td>AAVE</td>\n",
       "      <td>2020-10-12</td>\n",
       "      <td>52.238692</td>\n",
       "      <td>1.354836e+06</td>\n",
       "      <td>2.629157e+08</td>\n",
       "    </tr>\n",
       "  </tbody>\n",
       "</table>\n",
       "</div>"
      ],
      "text/plain": [
       "   Name Symbol        Date      Close        Volume     Marketcap\n",
       "0  Aave   AAVE  2020-10-05  53.219243  0.000000e+00  8.912813e+07\n",
       "1  Aave   AAVE  2020-10-06  42.401599  5.830915e+05  7.101144e+07\n",
       "2  Aave   AAVE  2020-10-07  40.083976  6.828342e+05  6.713004e+07\n",
       "3  Aave   AAVE  2020-10-08  43.764463  1.658817e+06  2.202651e+08\n",
       "4  Aave   AAVE  2020-10-09  46.817744  8.155377e+05  2.356322e+08\n",
       "5  Aave   AAVE  2020-10-10  49.133718  1.074627e+06  2.472884e+08\n",
       "6  Aave   AAVE  2020-10-11  49.660726  6.921506e+05  2.499408e+08\n",
       "7  Aave   AAVE  2020-10-12  52.238692  1.354836e+06  2.629157e+08"
      ]
     },
     "execution_count": 93,
     "metadata": {},
     "output_type": "execute_result"
    }
   ],
   "source": [
    "df.head(8)"
   ]
  },
  {
   "cell_type": "markdown",
   "metadata": {},
   "source": [
    "Rename Column"
   ]
  },
  {
   "cell_type": "code",
   "execution_count": 94,
   "metadata": {},
   "outputs": [],
   "source": [
    "df.rename(columns={\n",
    "    'Name':'Crypto'\n",
    "    ,'Symbol':'Label'\n",
    "    ,'Close':'Closing_Price'}\n",
    "    ,inplace=True)"
   ]
  },
  {
   "cell_type": "markdown",
   "metadata": {},
   "source": [
    "Zero Volume"
   ]
  },
  {
   "cell_type": "code",
   "execution_count": 95,
   "metadata": {},
   "outputs": [],
   "source": [
    "df = df.where(~(df['Volume']==0)).dropna()"
   ]
  },
  {
   "cell_type": "markdown",
   "metadata": {},
   "source": [
    "Zero Marketcap"
   ]
  },
  {
   "cell_type": "code",
   "execution_count": 96,
   "metadata": {},
   "outputs": [],
   "source": [
    "df = df.where(~(df['Marketcap']==0)).dropna()"
   ]
  },
  {
   "cell_type": "code",
   "execution_count": 97,
   "metadata": {},
   "outputs": [
    {
     "name": "stdout",
     "output_type": "stream",
     "text": [
      "<class 'pandas.core.frame.DataFrame'>\n",
      "Int64Index: 36111 entries, 1 to 37081\n",
      "Data columns (total 6 columns):\n",
      " #   Column         Non-Null Count  Dtype  \n",
      "---  ------         --------------  -----  \n",
      " 0   Crypto         36111 non-null  object \n",
      " 1   Label          36111 non-null  object \n",
      " 2   Date           36111 non-null  object \n",
      " 3   Closing_Price  36111 non-null  float64\n",
      " 4   Volume         36111 non-null  float64\n",
      " 5   Marketcap      36111 non-null  float64\n",
      "dtypes: float64(3), object(3)\n",
      "memory usage: 1.9+ MB\n"
     ]
    }
   ],
   "source": [
    "df.info()"
   ]
  },
  {
   "cell_type": "markdown",
   "metadata": {},
   "source": [
    "# Pre-Clean"
   ]
  },
  {
   "cell_type": "markdown",
   "metadata": {},
   "source": [
    "Checkpoint:"
   ]
  },
  {
   "cell_type": "code",
   "execution_count": 98,
   "metadata": {},
   "outputs": [],
   "source": [
    "df.to_csv('pre-crypto.csv'\n",
    "          ,index=False)"
   ]
  },
  {
   "cell_type": "code",
   "execution_count": 99,
   "metadata": {},
   "outputs": [],
   "source": [
    "df_pre = pd.read_csv('pre-crypto.csv'\n",
    "                     ,delimiter=',')\n",
    "df = df_pre.copy()"
   ]
  },
  {
   "cell_type": "markdown",
   "metadata": {},
   "source": [
    "# Outliers"
   ]
  },
  {
   "cell_type": "code",
   "execution_count": 100,
   "metadata": {},
   "outputs": [],
   "source": [
    "z_marketcap = stats.zscore(df['Marketcap'])\n",
    "outliers_mc = (z_marketcap>3)|(z_marketcap<-3)"
   ]
  },
  {
   "cell_type": "code",
   "execution_count": 101,
   "metadata": {},
   "outputs": [],
   "source": [
    "df = df[~outliers_mc]"
   ]
  },
  {
   "cell_type": "code",
   "execution_count": 102,
   "metadata": {},
   "outputs": [
    {
     "name": "stdout",
     "output_type": "stream",
     "text": [
      "<class 'pandas.core.frame.DataFrame'>\n",
      "Int64Index: 35722 entries, 0 to 36110\n",
      "Data columns (total 6 columns):\n",
      " #   Column         Non-Null Count  Dtype  \n",
      "---  ------         --------------  -----  \n",
      " 0   Crypto         35722 non-null  object \n",
      " 1   Label          35722 non-null  object \n",
      " 2   Date           35722 non-null  object \n",
      " 3   Closing_Price  35722 non-null  float64\n",
      " 4   Volume         35722 non-null  float64\n",
      " 5   Marketcap      35722 non-null  float64\n",
      "dtypes: float64(3), object(3)\n",
      "memory usage: 1.9+ MB\n"
     ]
    }
   ],
   "source": [
    "df.info()"
   ]
  },
  {
   "cell_type": "code",
   "execution_count": 104,
   "metadata": {},
   "outputs": [
    {
     "data": {
      "text/plain": [
       "<Axes: title={'center': 'Marketcap'}>"
      ]
     },
     "execution_count": 104,
     "metadata": {},
     "output_type": "execute_result"
    },
    {
     "data": {
      "image/png": "[encoded data removed]",
      "text/plain": [
       "<Figure size 640x480 with 1 Axes>"
      ]
     },
     "metadata": {},
     "output_type": "display_data"
    }
   ],
   "source": [
    "df['Marketcap'].plot(kind='box',title='Marketcap')"
   ]
  },
  {
   "cell_type": "markdown",
   "metadata": {},
   "source": [
    "# Clean"
   ]
  },
  {
   "cell_type": "code",
   "execution_count": 105,
   "metadata": {},
   "outputs": [],
   "source": [
    "df.to_csv('clean-crypto.csv'\n",
    "          ,index=False)"
   ]
  }
 ],
 "metadata": {
  "kernelspec": {
   "display_name": "base",
   "language": "python",
   "name": "python3"
  },
  "language_info": {
   "codemirror_mode": {
    "name": "ipython",
    "version": 3
   },
   "file_extension": ".py",
   "mimetype": "text/x-python",
   "name": "python",
   "nbconvert_exporter": "python",
   "pygments_lexer": "ipython3",
   "version": "3.10.9"
  }
 },
 "nbformat": 4,
 "nbformat_minor": 2
}
